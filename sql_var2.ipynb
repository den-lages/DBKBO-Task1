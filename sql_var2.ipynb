{
 "cells": [
  {
   "cell_type": "code",
   "execution_count": 1,
   "metadata": {},
   "outputs": [],
   "source": [
    "import random as rand"
   ]
  },
  {
   "cell_type": "code",
   "execution_count": 12,
   "metadata": {},
   "outputs": [],
   "source": [
    "h = dict([(1, 'Games'), (2, 'Swimming'), (3, 'Reading'), \n",
    "         (4, 'Music'), (5, 'Handicraft'), (6, 'Footaball'),\n",
    "         (7, 'Basketball'), (8, 'Volleyball'), (9, 'Cycling'),\n",
    "         (10, 'Fencing')])"
   ]
  },
  {
   "cell_type": "code",
   "execution_count": 13,
   "metadata": {},
   "outputs": [
    {
     "data": {
      "text/plain": [
       "{1: 'Games',\n",
       " 2: 'Swimming',\n",
       " 3: 'Reading',\n",
       " 4: 'Music',\n",
       " 5: 'Handicraft',\n",
       " 6: 'Footaball',\n",
       " 7: 'Basketball',\n",
       " 8: 'Volleyball',\n",
       " 9: 'Cycling',\n",
       " 10: 'Fencing'}"
      ]
     },
     "execution_count": 13,
     "metadata": {},
     "output_type": "execute_result"
    }
   ],
   "source": [
    "h"
   ]
  },
  {
   "cell_type": "code",
   "execution_count": 4,
   "metadata": {},
   "outputs": [],
   "source": [
    "s = dict([(1, 'Math'), (2, 'Physics'), (3, 'English'),\n",
    "          (4, 'Databases'), (5, 'Python'), (6, 'Java'),\n",
    "          (7, 'C#'), (8, 'Networks')])"
   ]
  },
  {
   "cell_type": "code",
   "execution_count": 5,
   "metadata": {},
   "outputs": [
    {
     "data": {
      "text/plain": [
       "{1: 'Math',\n",
       " 2: 'Physics',\n",
       " 3: 'English',\n",
       " 4: 'Databases',\n",
       " 5: 'Python',\n",
       " 6: 'Java',\n",
       " 7: 'C#',\n",
       " 8: 'Networks'}"
      ]
     },
     "execution_count": 5,
     "metadata": {},
     "output_type": "execute_result"
    }
   ],
   "source": [
    "s"
   ]
  },
  {
   "cell_type": "code",
   "execution_count": 18,
   "metadata": {},
   "outputs": [],
   "source": [
    "filename = \"file.sql\"\n",
    "with open(filename, 'w') as fd:\n",
    "    fd.write(\"CREATE TABLE Student(Id INTEGER, Subject TEXT, Hobby TEXT);\\n\")\n",
    "    for i in range(20):\n",
    "        fd.write(\"INSERT INTO Student(Id, Subject, Hobby) VALUES('{0}', '{1}', '{2}');\\n\".\n",
    "                format(i+1, s.get(rand.randint(1, 8)), h.get(rand.randint(1, 10))))"
   ]
  },
  {
   "cell_type": "code",
   "execution_count": null,
   "metadata": {},
   "outputs": [],
   "source": []
  }
 ],
 "metadata": {
  "kernelspec": {
   "display_name": "Python 3",
   "language": "python",
   "name": "python3"
  },
  "language_info": {
   "codemirror_mode": {
    "name": "ipython",
    "version": 3
   },
   "file_extension": ".py",
   "mimetype": "text/x-python",
   "name": "python",
   "nbconvert_exporter": "python",
   "pygments_lexer": "ipython3",
   "version": "3.8.5"
  }
 },
 "nbformat": 4,
 "nbformat_minor": 4
}
